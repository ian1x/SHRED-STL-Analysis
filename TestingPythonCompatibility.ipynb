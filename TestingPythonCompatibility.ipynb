{
 "cells": [
  {
   "cell_type": "code",
   "execution_count": 1,
   "id": "92d5e203-58d3-488f-bd00-2b6d8457e282",
   "metadata": {},
   "outputs": [
    {
     "name": "stdout",
     "output_type": "stream",
     "text": [
      "Collecting numpy-stl\n",
      "  Downloading numpy_stl-3.1.1-py3-none-any.whl.metadata (16 kB)\n",
      "Requirement already satisfied: numpy in /Users/sethgerow/Library/jupyterlab-desktop/jlab_server/lib/python3.8/site-packages (from numpy-stl) (1.24.4)\n",
      "Collecting python-utils>=3.4.5 (from numpy-stl)\n",
      "  Downloading python_utils-3.8.2-py2.py3-none-any.whl.metadata (9.7 kB)\n",
      "Requirement already satisfied: typing-extensions>3.10.0.2 in /Users/sethgerow/Library/jupyterlab-desktop/jlab_server/lib/python3.8/site-packages (from python-utils>=3.4.5->numpy-stl) (4.8.0)\n",
      "Downloading numpy_stl-3.1.1-py3-none-any.whl (20 kB)\n",
      "Downloading python_utils-3.8.2-py2.py3-none-any.whl (27 kB)\n",
      "Installing collected packages: python-utils, numpy-stl\n",
      "Successfully installed numpy-stl-3.1.1 python-utils-3.8.2\n",
      "Note: you may need to restart the kernel to use updated packages.\n"
     ]
    }
   ],
   "source": [
    "pip install numpy-stl"
   ]
  },
  {
   "cell_type": "code",
   "execution_count": 4,
   "id": "32dc79a3-7e3a-426a-a844-2305416d7c36",
   "metadata": {},
   "outputs": [],
   "source": [
    "from stl import mesh\n",
    "from mpl_toolkits import mplot3d\n",
    "from matplotlib import pyplot"
   ]
  },
  {
   "cell_type": "code",
   "execution_count": null,
   "id": "09671e95-823d-4791-a386-31b971ad105e",
   "metadata": {},
   "outputs": [],
   "source": [
    "# Create a new plot\n",
    "figure = pyplot.figure()\n",
    "axes = figure.add_subplot(projection='3d')\n",
    "\n",
    "# Load the STL files and add the vectors to the plot\n",
    "your_mesh = mesh.Mesh.from_file('Fin #2.stl')\n",
    "axes.add_collection3d(mplot3d.art3d.Poly3DCollection(your_mesh.vectors))\n",
    "\n",
    "# Auto scale to the mesh size\n",
    "scale = your_mesh.points.flatten()\n",
    "axes.auto_scale_xyz(scale, scale, scale)\n",
    "\n",
    "# Show the plot to the screen\n",
    "pyplot.show()"
   ]
  },
  {
   "cell_type": "code",
   "execution_count": null,
   "id": "c5fd7ff0-17c2-4f91-a170-f7de9baa9598",
   "metadata": {},
   "outputs": [],
   "source": []
  }
 ],
 "metadata": {
  "kernelspec": {
   "display_name": "Python 3 (ipykernel)",
   "language": "python",
   "name": "python3"
  },
  "language_info": {
   "codemirror_mode": {
    "name": "ipython",
    "version": 3
   },
   "file_extension": ".py",
   "mimetype": "text/x-python",
   "name": "python",
   "nbconvert_exporter": "python",
   "pygments_lexer": "ipython3",
   "version": "3.8.18"
  }
 },
 "nbformat": 4,
 "nbformat_minor": 5
}
